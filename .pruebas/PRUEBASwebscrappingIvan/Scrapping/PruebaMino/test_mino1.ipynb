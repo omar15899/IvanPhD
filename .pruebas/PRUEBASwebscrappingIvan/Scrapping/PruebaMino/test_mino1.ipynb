{
 "cells": [
  {
   "cell_type": "code",
   "execution_count": null,
   "metadata": {},
   "outputs": [
    {
     "ename": "",
     "evalue": "",
     "output_type": "error",
     "traceback": [
      "\u001b[1;31mRunning cells with 'webscrapping' requires the ipykernel package.\n",
      "\u001b[1;31mRun the following command to install 'ipykernel' into the Python environment. \n",
      "\u001b[1;31mCommand: 'conda install -n webscrapping ipykernel --update-deps --force-reinstall'"
     ]
    }
   ],
   "source": [
    "import requests"
   ]
  },
  {
   "cell_type": "code",
   "execution_count": 2,
   "metadata": {},
   "outputs": [],
   "source": [
    "DATA_URL = \"https://www.tripadvisor.es/data/graphql/ids\"\n",
    "REQ_LIMIT = 40\n",
    "LOCATION_ID = 191050\n",
    "PAYLOAD =  [\n",
    "    {\n",
    "        \"variables\": {\n",
    "            \"locationId\": LOCATION_ID,\n",
    "            \"albumId\": -160,\n",
    "            \"subAlbumId\": -160,\n",
    "            \"client\": \"ar\",\n",
    "            \"dataStrategy\": \"ar\",\n",
    "            \"filter\": {\n",
    "                \"mediaGroup\":\"ALL_INCLUDING_RESTRICTED\"\n",
    "            },\n",
    "            \"limit\": REQ_LIMIT,\n",
    "        },\n",
    "        \"extensions\": {\n",
    "            \"preRegisteredQueryId\":\"2d46abde60a014b0\"\n",
    "        }\n",
    "    }\n",
    "]"
   ]
  },
  {
   "cell_type": "code",
   "execution_count": 7,
   "metadata": {},
   "outputs": [],
   "source": [
    "offset = 0\n",
    "\n",
    "def get_media_list(response) -> list:\n",
    "    return response[\"data\"][\"mediaAlbumPage\"][\"mediaList\"]\n",
    "\n",
    "while True:\n",
    "    PAYLOAD[0][\"offset\"] = offset\n",
    "\n",
    "    response = requests.post(\n",
    "        DATA_URL,\n",
    "        json=PAYLOAD\n",
    "    ).json()\n",
    "\n",
    "    if not get_media_list(response):\n",
    "        break\n",
    "    print(response)\n",
    "    break\n",
    "    offset += 20"
   ]
  },
  {
   "cell_type": "code",
   "execution_count": 3,
   "metadata": {},
   "outputs": [],
   "source": [
    "PAYLOAD[0][\"offset\"] = 0\n",
    "response = requests.post(\n",
    "    DATA_URL,\n",
    ")"
   ]
  },
  {
   "cell_type": "code",
   "execution_count": null,
   "metadata": {},
   "outputs": [],
   "source": []
  }
 ],
 "metadata": {
  "kernelspec": {
   "display_name": "Python 3",
   "language": "python",
   "name": "python3"
  },
  "language_info": {
   "codemirror_mode": {
    "name": "ipython",
    "version": 3
   },
   "file_extension": ".py",
   "mimetype": "text/x-python",
   "name": "python",
   "nbconvert_exporter": "python",
   "pygments_lexer": "ipython3",
   "version": "3.12.0"
  }
 },
 "nbformat": 4,
 "nbformat_minor": 2
}
