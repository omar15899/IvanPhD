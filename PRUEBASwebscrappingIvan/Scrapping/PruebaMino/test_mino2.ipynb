{
 "cells": [
  {
   "cell_type": "code",
   "execution_count": 15,
   "metadata": {},
   "outputs": [],
   "source": [
    "import json\n",
    "import logging\n",
    "import time\n",
    "\n",
    "import requests\n",
    "\n",
    "\n",
    "DATA_URL = \"https://www.tripadvisor.es/data/graphql/ids\"\n",
    "REQ_LIMIT = 40\n",
    "LOCATION_ID = 191050\n",
    "PAYLOAD =  [\n",
    "    {\n",
    "        \"variables\": {\n",
    "            \"locationId\": LOCATION_ID,\n",
    "            \"albumId\": -160,\n",
    "            \"subAlbumId\": -160,\n",
    "            \"client\": \"ar\",\n",
    "            \"dataStrategy\": \"ar\",\n",
    "            \"filter\": {\n",
    "                \"mediaGroup\":\"ALL_INCLUDING_RESTRICTED\"\n",
    "            },\n",
    "            \"offset\": 0,\n",
    "            \"limit\": REQ_LIMIT,\n",
    "        },\n",
    "        \"extensions\": {\n",
    "            \"preRegisteredQueryId\":\"2d46abde60a014b0\"\n",
    "        }\n",
    "    }\n",
    "]\n",
    "MAX_ERRORS = 5\n",
    "HEADERS = {\n",
    "    'User-Agent': \"Mozilla/5.0 (Windows NT 10.0; Win64; x64) AppleWebKit/537.36 (KHTML, like Gecko) Chrome/122.0.0.0 Safari/537.36 Edg/122.0.0.0\",\n",
    "    \"Accept-Encoding\": \"gzip, deflate\",\n",
    "    \"Content-Type\": \"application/json\",\n",
    "    \"Connection\": \"keep-alive\",\n",
    "}"
   ]
  },
  {
   "cell_type": "code",
   "execution_count": 16,
   "metadata": {},
   "outputs": [
    {
     "name": "stderr",
     "output_type": "stream",
     "text": [
      "ERROR:root:HTTPSConnectionPool(host='www.tripadvisor.es', port=443): Read timed out. (read timeout=5)\n",
      "ERROR:root:HTTPSConnectionPool(host='www.tripadvisor.es', port=443): Read timed out. (read timeout=5)\n",
      "ERROR:root:HTTPSConnectionPool(host='www.tripadvisor.es', port=443): Read timed out. (read timeout=5)\n",
      "ERROR:root:HTTPSConnectionPool(host='www.tripadvisor.es', port=443): Read timed out. (read timeout=5)\n",
      "ERROR:root:HTTPSConnectionPool(host='www.tripadvisor.es', port=443): Read timed out. (read timeout=5)\n",
      "ERROR:root:HTTPSConnectionPool(host='www.tripadvisor.es', port=443): Read timed out. (read timeout=5)\n",
      "ERROR:root:Max. errors reached. Breaking.\n"
     ]
    }
   ],
   "source": [
    "offset = 0\n",
    "consecutive_errors = 0\n",
    "\n",
    "\n",
    "def get_media_list(response) -> list:\n",
    "\n",
    "    return response[0][\"data\"][\"mediaAlbumPage\"][\"mediaList\"]\n",
    "\n",
    "while True:\n",
    "    if consecutive_errors > MAX_ERRORS:\n",
    "        logging.error(\"Max. errors reached. Breaking.\")\n",
    "        break\n",
    "\n",
    "    PAYLOAD[0][\"variables\"][\"offset\"] = offset\n",
    "    time.sleep(3)\n",
    "\n",
    "    try:\n",
    "        response = requests.post(\n",
    "            DATA_URL,\n",
    "            headers=HEADERS,\n",
    "            data=json.dumps(PAYLOAD),\n",
    "            timeout=10,\n",
    "        ).json()\n",
    "    except Exception as e:\n",
    "        logging.error(e)\n",
    "        consecutive_errors += 1\n",
    "        continue\n",
    "\n",
    "    consecutive_errors = 0\n",
    "    with open(f\"output/{LOCATION_ID}_{offset}.json\", \"w\") as f:\n",
    "        f.write(json.dumps(response))\n",
    "\n",
    "    if not get_media_list(response):\n",
    "        break\n",
    "\n",
    "    offset += 20"
   ]
  },
  {
   "cell_type": "code",
   "execution_count": null,
   "metadata": {},
   "outputs": [],
   "source": []
  }
 ],
 "metadata": {
  "kernelspec": {
   "display_name": "Python 3",
   "language": "python",
   "name": "python3"
  },
  "language_info": {
   "codemirror_mode": {
    "name": "ipython",
    "version": 3
   },
   "file_extension": ".py",
   "mimetype": "text/x-python",
   "name": "python",
   "nbconvert_exporter": "python",
   "pygments_lexer": "ipython3",
   "version": "3.12.0"
  }
 },
 "nbformat": 4,
 "nbformat_minor": 2
}
